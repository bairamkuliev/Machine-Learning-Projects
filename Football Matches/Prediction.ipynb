{
 "cells": [
  {
   "cell_type": "code",
   "execution_count": 1,
   "id": "517dd53f",
   "metadata": {},
   "outputs": [],
   "source": [
    "import pandas as pd"
   ]
  },
  {
   "cell_type": "markdown",
   "id": "de45594a",
   "metadata": {},
   "source": [
    "### Reading match data into Pandas dataframe "
   ]
  },
  {
   "cell_type": "code",
   "execution_count": 2,
   "id": "e799d24e",
   "metadata": {},
   "outputs": [],
   "source": [
    "matches = pd.read_csv(\"matches.csv\", index_col=0)"
   ]
  },
  {
   "cell_type": "code",
   "execution_count": 3,
   "id": "14d59a96",
   "metadata": {},
   "outputs": [
    {
     "data": {
      "text/html": [
       "<div>\n",
       "<style scoped>\n",
       "    .dataframe tbody tr th:only-of-type {\n",
       "        vertical-align: middle;\n",
       "    }\n",
       "\n",
       "    .dataframe tbody tr th {\n",
       "        vertical-align: top;\n",
       "    }\n",
       "\n",
       "    .dataframe thead th {\n",
       "        text-align: right;\n",
       "    }\n",
       "</style>\n",
       "<table border=\"1\" class=\"dataframe\">\n",
       "  <thead>\n",
       "    <tr style=\"text-align: right;\">\n",
       "      <th></th>\n",
       "      <th>date</th>\n",
       "      <th>time</th>\n",
       "      <th>comp</th>\n",
       "      <th>round</th>\n",
       "      <th>day</th>\n",
       "      <th>venue</th>\n",
       "      <th>result</th>\n",
       "      <th>gf</th>\n",
       "      <th>ga</th>\n",
       "      <th>opponent</th>\n",
       "      <th>...</th>\n",
       "      <th>notes</th>\n",
       "      <th>sh</th>\n",
       "      <th>sot</th>\n",
       "      <th>dist</th>\n",
       "      <th>pk</th>\n",
       "      <th>pkatt</th>\n",
       "      <th>season</th>\n",
       "      <th>team</th>\n",
       "      <th>xg</th>\n",
       "      <th>xga</th>\n",
       "    </tr>\n",
       "  </thead>\n",
       "  <tbody>\n",
       "    <tr>\n",
       "      <th>2</th>\n",
       "      <td>2021-08-16</td>\n",
       "      <td>19:15</td>\n",
       "      <td>Süper Lig</td>\n",
       "      <td>Matchweek 1</td>\n",
       "      <td>Mon</td>\n",
       "      <td>Away</td>\n",
       "      <td>W</td>\n",
       "      <td>5</td>\n",
       "      <td>1</td>\n",
       "      <td>Yeni Mal'spor</td>\n",
       "      <td>...</td>\n",
       "      <td>NaN</td>\n",
       "      <td>14.0</td>\n",
       "      <td>8.0</td>\n",
       "      <td>NaN</td>\n",
       "      <td>1</td>\n",
       "      <td>1</td>\n",
       "      <td>2022</td>\n",
       "      <td>Trabzonspor</td>\n",
       "      <td>NaN</td>\n",
       "      <td>NaN</td>\n",
       "    </tr>\n",
       "    <tr>\n",
       "      <th>4</th>\n",
       "      <td>2021-08-23</td>\n",
       "      <td>19:15</td>\n",
       "      <td>Süper Lig</td>\n",
       "      <td>Matchweek 2</td>\n",
       "      <td>Mon</td>\n",
       "      <td>Home</td>\n",
       "      <td>W</td>\n",
       "      <td>2</td>\n",
       "      <td>1</td>\n",
       "      <td>Sivasspor</td>\n",
       "      <td>...</td>\n",
       "      <td>NaN</td>\n",
       "      <td>14.0</td>\n",
       "      <td>6.0</td>\n",
       "      <td>NaN</td>\n",
       "      <td>1</td>\n",
       "      <td>1</td>\n",
       "      <td>2022</td>\n",
       "      <td>Trabzonspor</td>\n",
       "      <td>NaN</td>\n",
       "      <td>NaN</td>\n",
       "    </tr>\n",
       "    <tr>\n",
       "      <th>6</th>\n",
       "      <td>2021-08-29</td>\n",
       "      <td>21:45</td>\n",
       "      <td>Süper Lig</td>\n",
       "      <td>Matchweek 3</td>\n",
       "      <td>Sun</td>\n",
       "      <td>Away</td>\n",
       "      <td>W</td>\n",
       "      <td>1</td>\n",
       "      <td>0</td>\n",
       "      <td>Giresunspor</td>\n",
       "      <td>...</td>\n",
       "      <td>NaN</td>\n",
       "      <td>13.0</td>\n",
       "      <td>5.0</td>\n",
       "      <td>NaN</td>\n",
       "      <td>0</td>\n",
       "      <td>0</td>\n",
       "      <td>2022</td>\n",
       "      <td>Trabzonspor</td>\n",
       "      <td>NaN</td>\n",
       "      <td>NaN</td>\n",
       "    </tr>\n",
       "    <tr>\n",
       "      <th>7</th>\n",
       "      <td>2021-09-12</td>\n",
       "      <td>20:00</td>\n",
       "      <td>Süper Lig</td>\n",
       "      <td>Matchweek 4</td>\n",
       "      <td>Sun</td>\n",
       "      <td>Home</td>\n",
       "      <td>D</td>\n",
       "      <td>2</td>\n",
       "      <td>2</td>\n",
       "      <td>Galatasaray</td>\n",
       "      <td>...</td>\n",
       "      <td>NaN</td>\n",
       "      <td>19.0</td>\n",
       "      <td>6.0</td>\n",
       "      <td>NaN</td>\n",
       "      <td>0</td>\n",
       "      <td>0</td>\n",
       "      <td>2022</td>\n",
       "      <td>Trabzonspor</td>\n",
       "      <td>NaN</td>\n",
       "      <td>NaN</td>\n",
       "    </tr>\n",
       "    <tr>\n",
       "      <th>8</th>\n",
       "      <td>2021-09-18</td>\n",
       "      <td>16:00</td>\n",
       "      <td>Süper Lig</td>\n",
       "      <td>Matchweek 5</td>\n",
       "      <td>Sat</td>\n",
       "      <td>Away</td>\n",
       "      <td>W</td>\n",
       "      <td>1</td>\n",
       "      <td>0</td>\n",
       "      <td>Kasımpaşa</td>\n",
       "      <td>...</td>\n",
       "      <td>NaN</td>\n",
       "      <td>12.0</td>\n",
       "      <td>9.0</td>\n",
       "      <td>NaN</td>\n",
       "      <td>0</td>\n",
       "      <td>0</td>\n",
       "      <td>2022</td>\n",
       "      <td>Trabzonspor</td>\n",
       "      <td>NaN</td>\n",
       "      <td>NaN</td>\n",
       "    </tr>\n",
       "  </tbody>\n",
       "</table>\n",
       "<p>5 rows × 26 columns</p>\n",
       "</div>"
      ],
      "text/plain": [
       "         date   time       comp        round  day venue result  gf  ga  \\\n",
       "2  2021-08-16  19:15  Süper Lig  Matchweek 1  Mon  Away      W   5   1   \n",
       "4  2021-08-23  19:15  Süper Lig  Matchweek 2  Mon  Home      W   2   1   \n",
       "6  2021-08-29  21:45  Süper Lig  Matchweek 3  Sun  Away      W   1   0   \n",
       "7  2021-09-12  20:00  Süper Lig  Matchweek 4  Sun  Home      D   2   2   \n",
       "8  2021-09-18  16:00  Süper Lig  Matchweek 5  Sat  Away      W   1   0   \n",
       "\n",
       "        opponent  ...  notes    sh  sot dist pk pkatt  season         team  \\\n",
       "2  Yeni Mal'spor  ...    NaN  14.0  8.0  NaN  1     1    2022  Trabzonspor   \n",
       "4      Sivasspor  ...    NaN  14.0  6.0  NaN  1     1    2022  Trabzonspor   \n",
       "6    Giresunspor  ...    NaN  13.0  5.0  NaN  0     0    2022  Trabzonspor   \n",
       "7    Galatasaray  ...    NaN  19.0  6.0  NaN  0     0    2022  Trabzonspor   \n",
       "8      Kasımpaşa  ...    NaN  12.0  9.0  NaN  0     0    2022  Trabzonspor   \n",
       "\n",
       "   xg  xga  \n",
       "2 NaN  NaN  \n",
       "4 NaN  NaN  \n",
       "6 NaN  NaN  \n",
       "7 NaN  NaN  \n",
       "8 NaN  NaN  \n",
       "\n",
       "[5 rows x 26 columns]"
      ]
     },
     "execution_count": 3,
     "metadata": {},
     "output_type": "execute_result"
    }
   ],
   "source": [
    "matches.head()"
   ]
  },
  {
   "cell_type": "code",
   "execution_count": 4,
   "id": "8722863c",
   "metadata": {},
   "outputs": [
    {
     "data": {
      "text/plain": [
       "(1600, 26)"
      ]
     },
     "execution_count": 4,
     "metadata": {},
     "output_type": "execute_result"
    }
   ],
   "source": [
    "matches.shape"
   ]
  },
  {
   "cell_type": "markdown",
   "id": "f35ab517",
   "metadata": {},
   "source": [
    "### Investigating missing data"
   ]
  },
  {
   "cell_type": "code",
   "execution_count": 5,
   "id": "5a652b55",
   "metadata": {},
   "outputs": [
    {
     "data": {
      "text/plain": [
       "1520"
      ]
     },
     "execution_count": 5,
     "metadata": {},
     "output_type": "execute_result"
    }
   ],
   "source": [
    "# 2 seasons * 20 squads * 38 matches\n",
    "\n",
    "2 * 20 * 38"
   ]
  },
  {
   "cell_type": "code",
   "execution_count": 6,
   "id": "68aa0237",
   "metadata": {},
   "outputs": [
    {
     "data": {
      "text/plain": [
       "Trabzonspor            78\n",
       "Kasimpasa              78\n",
       "Yeni Malatyaspor       78\n",
       "Goztepe                78\n",
       "Rizespor               78\n",
       "Gaziantep FK           78\n",
       "Kayserispor            78\n",
       "Fenerbahce             78\n",
       "Hatayspor              78\n",
       "Galatasaray            78\n",
       "Sivasspor              78\n",
       "Fatih Karagumruk       78\n",
       "Antalyaspor            78\n",
       "Besiktas               78\n",
       "Alanyaspor             78\n",
       "Istanbul Basaksehir    78\n",
       "Konyaspor              78\n",
       "Erzurum BB             40\n",
       "Ankaragucu             40\n",
       "Genclerbirligi         40\n",
       "Denizlispor            40\n",
       "Adana Demirspor        38\n",
       "Giresunspor            38\n",
       "Altay                  38\n",
       "Name: team, dtype: int64"
      ]
     },
     "execution_count": 6,
     "metadata": {},
     "output_type": "execute_result"
    }
   ],
   "source": [
    "matches[\"team\"].value_counts()"
   ]
  },
  {
   "cell_type": "code",
   "execution_count": 7,
   "id": "0e40646a",
   "metadata": {},
   "outputs": [
    {
     "data": {
      "text/plain": [
       "Matchweek 1     40\n",
       "Matchweek 30    40\n",
       "Matchweek 23    40\n",
       "Matchweek 24    40\n",
       "Matchweek 25    40\n",
       "Matchweek 26    40\n",
       "Matchweek 27    40\n",
       "Matchweek 28    40\n",
       "Matchweek 29    40\n",
       "Matchweek 31    40\n",
       "Matchweek 21    40\n",
       "Matchweek 32    40\n",
       "Matchweek 33    40\n",
       "Matchweek 34    40\n",
       "Matchweek 35    40\n",
       "Matchweek 36    40\n",
       "Matchweek 37    40\n",
       "Matchweek 38    40\n",
       "Matchweek 2     40\n",
       "Matchweek 22    40\n",
       "Matchweek 20    40\n",
       "Matchweek 10    40\n",
       "Matchweek 3     40\n",
       "Matchweek 4     40\n",
       "Matchweek 5     40\n",
       "Matchweek 6     40\n",
       "Matchweek 7     40\n",
       "Matchweek 8     40\n",
       "Matchweek 19    40\n",
       "Matchweek 9     40\n",
       "Matchweek 11    40\n",
       "Matchweek 12    40\n",
       "Matchweek 13    40\n",
       "Matchweek 14    40\n",
       "Matchweek 15    40\n",
       "Matchweek 16    40\n",
       "Matchweek 17    40\n",
       "Matchweek 18    40\n",
       "Matchweek 39    20\n",
       "Matchweek 40    20\n",
       "Matchweek 41    20\n",
       "Matchweek 42    20\n",
       "Name: round, dtype: int64"
      ]
     },
     "execution_count": 7,
     "metadata": {},
     "output_type": "execute_result"
    }
   ],
   "source": [
    "matches[\"round\"].value_counts()"
   ]
  },
  {
   "cell_type": "markdown",
   "id": "a6ea488b",
   "metadata": {},
   "source": [
    "### Cleaning Data for machine learning"
   ]
  },
  {
   "cell_type": "code",
   "execution_count": 8,
   "id": "4ad3776a",
   "metadata": {},
   "outputs": [
    {
     "data": {
      "text/plain": [
       "date             object\n",
       "time             object\n",
       "comp             object\n",
       "round            object\n",
       "day              object\n",
       "venue            object\n",
       "result           object\n",
       "gf                int64\n",
       "ga                int64\n",
       "opponent         object\n",
       "poss            float64\n",
       "attendance      float64\n",
       "captain          object\n",
       "formation        object\n",
       "referee          object\n",
       "match report     object\n",
       "notes           float64\n",
       "sh              float64\n",
       "sot             float64\n",
       "dist            float64\n",
       "pk                int64\n",
       "pkatt             int64\n",
       "season            int64\n",
       "team             object\n",
       "xg              float64\n",
       "xga             float64\n",
       "dtype: object"
      ]
     },
     "execution_count": 8,
     "metadata": {},
     "output_type": "execute_result"
    }
   ],
   "source": [
    "matches.dtypes"
   ]
  },
  {
   "cell_type": "markdown",
   "id": "7e77a24f",
   "metadata": {},
   "source": [
    "Converting data object to datatime, this just makes it easier for me to compute predictors based on the date time column."
   ]
  },
  {
   "cell_type": "code",
   "execution_count": 9,
   "id": "d4355657",
   "metadata": {},
   "outputs": [],
   "source": [
    "matches[\"date\"] = pd.to_datetime(matches[\"date\"])"
   ]
  },
  {
   "cell_type": "code",
   "execution_count": 10,
   "id": "3f242e2b",
   "metadata": {},
   "outputs": [],
   "source": [
    "del matches[\"comp\"]\n",
    "del matches[\"notes\"]"
   ]
  },
  {
   "cell_type": "markdown",
   "id": "f62ba8de",
   "metadata": {},
   "source": [
    "### Creating predictors for machine learing "
   ]
  },
  {
   "cell_type": "markdown",
   "id": "fb06a5f9",
   "metadata": {},
   "source": [
    "The first predictor that I created is called venue code.\n",
    "This is for converting home or away column into a numeric column."
   ]
  },
  {
   "cell_type": "code",
   "execution_count": 11,
   "id": "18878105",
   "metadata": {},
   "outputs": [],
   "source": [
    "matches[\"venue_code\"] = matches[\"venue\"].astype(\"category\").cat.codes"
   ]
  },
  {
   "cell_type": "markdown",
   "id": "a54201a1",
   "metadata": {},
   "source": [
    "Next thing what I did is something similar to venue column. I created a unique code for each opponent squad\n"
   ]
  },
  {
   "cell_type": "code",
   "execution_count": 12,
   "id": "67169e03",
   "metadata": {},
   "outputs": [],
   "source": [
    "matches[\"opp_code\"] = matches[\"opponent\"].astype(\"category\").cat.codes"
   ]
  },
  {
   "cell_type": "markdown",
   "id": "5367366b",
   "metadata": {},
   "source": [
    "Here I wanted to remove the minutes and just keep the hour, so I used a string replacement and a reg ex.\n"
   ]
  },
  {
   "cell_type": "code",
   "execution_count": 13,
   "id": "83d25910",
   "metadata": {},
   "outputs": [],
   "source": [
    "matches[\"hour\"] = matches[\"time\"].str.replace(\":.+\", \"\", regex=True).astype(\"int\")"
   ]
  },
  {
   "cell_type": "markdown",
   "id": "afa9c5e5",
   "metadata": {},
   "source": [
    "The last thing I created before building initial model is called day code column. This is giving me a number for each day of the week, so monday is a zero, tuesday is one, wednesday is three and so on\n"
   ]
  },
  {
   "cell_type": "code",
   "execution_count": 14,
   "id": "ee1df694",
   "metadata": {},
   "outputs": [],
   "source": [
    "matches[\"day_code\"] = matches[\"date\"].dt.dayofweek"
   ]
  },
  {
   "cell_type": "markdown",
   "id": "65f3a6b9",
   "metadata": {},
   "source": [
    "We can see that the result can be L, W or D so I converted this to two numbers. If the result is a loss or a draw I code it as a zero, if the result is a win I code it as a one, because what I want to predict is if the team won or not.\n"
   ]
  },
  {
   "cell_type": "code",
   "execution_count": 15,
   "id": "57af7657",
   "metadata": {},
   "outputs": [],
   "source": [
    "matches[\"target\"] = (matches[\"result\"] == \"W\").astype(\"int\")"
   ]
  },
  {
   "cell_type": "code",
   "execution_count": 16,
   "id": "09edfe3d",
   "metadata": {},
   "outputs": [
    {
     "data": {
      "text/html": [
       "<div>\n",
       "<style scoped>\n",
       "    .dataframe tbody tr th:only-of-type {\n",
       "        vertical-align: middle;\n",
       "    }\n",
       "\n",
       "    .dataframe tbody tr th {\n",
       "        vertical-align: top;\n",
       "    }\n",
       "\n",
       "    .dataframe thead th {\n",
       "        text-align: right;\n",
       "    }\n",
       "</style>\n",
       "<table border=\"1\" class=\"dataframe\">\n",
       "  <thead>\n",
       "    <tr style=\"text-align: right;\">\n",
       "      <th></th>\n",
       "      <th>date</th>\n",
       "      <th>time</th>\n",
       "      <th>round</th>\n",
       "      <th>day</th>\n",
       "      <th>venue</th>\n",
       "      <th>result</th>\n",
       "      <th>gf</th>\n",
       "      <th>ga</th>\n",
       "      <th>opponent</th>\n",
       "      <th>poss</th>\n",
       "      <th>...</th>\n",
       "      <th>pkatt</th>\n",
       "      <th>season</th>\n",
       "      <th>team</th>\n",
       "      <th>xg</th>\n",
       "      <th>xga</th>\n",
       "      <th>venue_code</th>\n",
       "      <th>opp_code</th>\n",
       "      <th>hour</th>\n",
       "      <th>day_code</th>\n",
       "      <th>target</th>\n",
       "    </tr>\n",
       "  </thead>\n",
       "  <tbody>\n",
       "    <tr>\n",
       "      <th>2</th>\n",
       "      <td>2021-08-16</td>\n",
       "      <td>19:15</td>\n",
       "      <td>Matchweek 1</td>\n",
       "      <td>Mon</td>\n",
       "      <td>Away</td>\n",
       "      <td>W</td>\n",
       "      <td>5</td>\n",
       "      <td>1</td>\n",
       "      <td>Yeni Mal'spor</td>\n",
       "      <td>60.0</td>\n",
       "      <td>...</td>\n",
       "      <td>1</td>\n",
       "      <td>2022</td>\n",
       "      <td>Trabzonspor</td>\n",
       "      <td>NaN</td>\n",
       "      <td>NaN</td>\n",
       "      <td>0</td>\n",
       "      <td>23</td>\n",
       "      <td>19</td>\n",
       "      <td>0</td>\n",
       "      <td>1</td>\n",
       "    </tr>\n",
       "    <tr>\n",
       "      <th>4</th>\n",
       "      <td>2021-08-23</td>\n",
       "      <td>19:15</td>\n",
       "      <td>Matchweek 2</td>\n",
       "      <td>Mon</td>\n",
       "      <td>Home</td>\n",
       "      <td>W</td>\n",
       "      <td>2</td>\n",
       "      <td>1</td>\n",
       "      <td>Sivasspor</td>\n",
       "      <td>53.0</td>\n",
       "      <td>...</td>\n",
       "      <td>1</td>\n",
       "      <td>2022</td>\n",
       "      <td>Trabzonspor</td>\n",
       "      <td>NaN</td>\n",
       "      <td>NaN</td>\n",
       "      <td>1</td>\n",
       "      <td>21</td>\n",
       "      <td>19</td>\n",
       "      <td>0</td>\n",
       "      <td>1</td>\n",
       "    </tr>\n",
       "    <tr>\n",
       "      <th>6</th>\n",
       "      <td>2021-08-29</td>\n",
       "      <td>21:45</td>\n",
       "      <td>Matchweek 3</td>\n",
       "      <td>Sun</td>\n",
       "      <td>Away</td>\n",
       "      <td>W</td>\n",
       "      <td>1</td>\n",
       "      <td>0</td>\n",
       "      <td>Giresunspor</td>\n",
       "      <td>54.0</td>\n",
       "      <td>...</td>\n",
       "      <td>0</td>\n",
       "      <td>2022</td>\n",
       "      <td>Trabzonspor</td>\n",
       "      <td>NaN</td>\n",
       "      <td>NaN</td>\n",
       "      <td>0</td>\n",
       "      <td>14</td>\n",
       "      <td>21</td>\n",
       "      <td>6</td>\n",
       "      <td>1</td>\n",
       "    </tr>\n",
       "    <tr>\n",
       "      <th>7</th>\n",
       "      <td>2021-09-12</td>\n",
       "      <td>20:00</td>\n",
       "      <td>Matchweek 4</td>\n",
       "      <td>Sun</td>\n",
       "      <td>Home</td>\n",
       "      <td>D</td>\n",
       "      <td>2</td>\n",
       "      <td>2</td>\n",
       "      <td>Galatasaray</td>\n",
       "      <td>62.0</td>\n",
       "      <td>...</td>\n",
       "      <td>0</td>\n",
       "      <td>2022</td>\n",
       "      <td>Trabzonspor</td>\n",
       "      <td>NaN</td>\n",
       "      <td>NaN</td>\n",
       "      <td>1</td>\n",
       "      <td>11</td>\n",
       "      <td>20</td>\n",
       "      <td>6</td>\n",
       "      <td>0</td>\n",
       "    </tr>\n",
       "    <tr>\n",
       "      <th>8</th>\n",
       "      <td>2021-09-18</td>\n",
       "      <td>16:00</td>\n",
       "      <td>Matchweek 5</td>\n",
       "      <td>Sat</td>\n",
       "      <td>Away</td>\n",
       "      <td>W</td>\n",
       "      <td>1</td>\n",
       "      <td>0</td>\n",
       "      <td>Kasımpaşa</td>\n",
       "      <td>55.0</td>\n",
       "      <td>...</td>\n",
       "      <td>0</td>\n",
       "      <td>2022</td>\n",
       "      <td>Trabzonspor</td>\n",
       "      <td>NaN</td>\n",
       "      <td>NaN</td>\n",
       "      <td>0</td>\n",
       "      <td>17</td>\n",
       "      <td>16</td>\n",
       "      <td>5</td>\n",
       "      <td>1</td>\n",
       "    </tr>\n",
       "    <tr>\n",
       "      <th>...</th>\n",
       "      <td>...</td>\n",
       "      <td>...</td>\n",
       "      <td>...</td>\n",
       "      <td>...</td>\n",
       "      <td>...</td>\n",
       "      <td>...</td>\n",
       "      <td>...</td>\n",
       "      <td>...</td>\n",
       "      <td>...</td>\n",
       "      <td>...</td>\n",
       "      <td>...</td>\n",
       "      <td>...</td>\n",
       "      <td>...</td>\n",
       "      <td>...</td>\n",
       "      <td>...</td>\n",
       "      <td>...</td>\n",
       "      <td>...</td>\n",
       "      <td>...</td>\n",
       "      <td>...</td>\n",
       "      <td>...</td>\n",
       "      <td>...</td>\n",
       "    </tr>\n",
       "    <tr>\n",
       "      <th>35</th>\n",
       "      <td>2021-04-28</td>\n",
       "      <td>16:00</td>\n",
       "      <td>Matchweek 38</td>\n",
       "      <td>Wed</td>\n",
       "      <td>Away</td>\n",
       "      <td>L</td>\n",
       "      <td>3</td>\n",
       "      <td>6</td>\n",
       "      <td>Kayserispor</td>\n",
       "      <td>51.0</td>\n",
       "      <td>...</td>\n",
       "      <td>0</td>\n",
       "      <td>2021</td>\n",
       "      <td>Denizlispor</td>\n",
       "      <td>NaN</td>\n",
       "      <td>NaN</td>\n",
       "      <td>0</td>\n",
       "      <td>18</td>\n",
       "      <td>16</td>\n",
       "      <td>2</td>\n",
       "      <td>0</td>\n",
       "    </tr>\n",
       "    <tr>\n",
       "      <th>36</th>\n",
       "      <td>2021-05-02</td>\n",
       "      <td>16:00</td>\n",
       "      <td>Matchweek 39</td>\n",
       "      <td>Sun</td>\n",
       "      <td>Home</td>\n",
       "      <td>L</td>\n",
       "      <td>0</td>\n",
       "      <td>1</td>\n",
       "      <td>Rizespor</td>\n",
       "      <td>55.0</td>\n",
       "      <td>...</td>\n",
       "      <td>0</td>\n",
       "      <td>2021</td>\n",
       "      <td>Denizlispor</td>\n",
       "      <td>NaN</td>\n",
       "      <td>NaN</td>\n",
       "      <td>1</td>\n",
       "      <td>20</td>\n",
       "      <td>16</td>\n",
       "      <td>6</td>\n",
       "      <td>0</td>\n",
       "    </tr>\n",
       "    <tr>\n",
       "      <th>37</th>\n",
       "      <td>2021-05-08</td>\n",
       "      <td>20:30</td>\n",
       "      <td>Matchweek 40</td>\n",
       "      <td>Sat</td>\n",
       "      <td>Away</td>\n",
       "      <td>L</td>\n",
       "      <td>0</td>\n",
       "      <td>1</td>\n",
       "      <td>Hatayspor</td>\n",
       "      <td>49.0</td>\n",
       "      <td>...</td>\n",
       "      <td>1</td>\n",
       "      <td>2021</td>\n",
       "      <td>Denizlispor</td>\n",
       "      <td>NaN</td>\n",
       "      <td>NaN</td>\n",
       "      <td>0</td>\n",
       "      <td>16</td>\n",
       "      <td>20</td>\n",
       "      <td>5</td>\n",
       "      <td>0</td>\n",
       "    </tr>\n",
       "    <tr>\n",
       "      <th>38</th>\n",
       "      <td>2021-05-11</td>\n",
       "      <td>20:30</td>\n",
       "      <td>Matchweek 41</td>\n",
       "      <td>Tue</td>\n",
       "      <td>Home</td>\n",
       "      <td>L</td>\n",
       "      <td>1</td>\n",
       "      <td>4</td>\n",
       "      <td>Galatasaray</td>\n",
       "      <td>43.0</td>\n",
       "      <td>...</td>\n",
       "      <td>0</td>\n",
       "      <td>2021</td>\n",
       "      <td>Denizlispor</td>\n",
       "      <td>NaN</td>\n",
       "      <td>NaN</td>\n",
       "      <td>1</td>\n",
       "      <td>11</td>\n",
       "      <td>20</td>\n",
       "      <td>1</td>\n",
       "      <td>0</td>\n",
       "    </tr>\n",
       "    <tr>\n",
       "      <th>39</th>\n",
       "      <td>2021-05-15</td>\n",
       "      <td>18:00</td>\n",
       "      <td>Matchweek 42</td>\n",
       "      <td>Sat</td>\n",
       "      <td>Away</td>\n",
       "      <td>L</td>\n",
       "      <td>1</td>\n",
       "      <td>5</td>\n",
       "      <td>Fatih Karagümrük</td>\n",
       "      <td>29.0</td>\n",
       "      <td>...</td>\n",
       "      <td>0</td>\n",
       "      <td>2021</td>\n",
       "      <td>Denizlispor</td>\n",
       "      <td>NaN</td>\n",
       "      <td>NaN</td>\n",
       "      <td>0</td>\n",
       "      <td>9</td>\n",
       "      <td>18</td>\n",
       "      <td>5</td>\n",
       "      <td>0</td>\n",
       "    </tr>\n",
       "  </tbody>\n",
       "</table>\n",
       "<p>1600 rows × 29 columns</p>\n",
       "</div>"
      ],
      "text/plain": [
       "         date   time         round  day venue result  gf  ga  \\\n",
       "2  2021-08-16  19:15   Matchweek 1  Mon  Away      W   5   1   \n",
       "4  2021-08-23  19:15   Matchweek 2  Mon  Home      W   2   1   \n",
       "6  2021-08-29  21:45   Matchweek 3  Sun  Away      W   1   0   \n",
       "7  2021-09-12  20:00   Matchweek 4  Sun  Home      D   2   2   \n",
       "8  2021-09-18  16:00   Matchweek 5  Sat  Away      W   1   0   \n",
       "..        ...    ...           ...  ...   ...    ...  ..  ..   \n",
       "35 2021-04-28  16:00  Matchweek 38  Wed  Away      L   3   6   \n",
       "36 2021-05-02  16:00  Matchweek 39  Sun  Home      L   0   1   \n",
       "37 2021-05-08  20:30  Matchweek 40  Sat  Away      L   0   1   \n",
       "38 2021-05-11  20:30  Matchweek 41  Tue  Home      L   1   4   \n",
       "39 2021-05-15  18:00  Matchweek 42  Sat  Away      L   1   5   \n",
       "\n",
       "            opponent  poss  ...  pkatt season         team  xg xga  \\\n",
       "2      Yeni Mal'spor  60.0  ...      1   2022  Trabzonspor NaN NaN   \n",
       "4          Sivasspor  53.0  ...      1   2022  Trabzonspor NaN NaN   \n",
       "6        Giresunspor  54.0  ...      0   2022  Trabzonspor NaN NaN   \n",
       "7        Galatasaray  62.0  ...      0   2022  Trabzonspor NaN NaN   \n",
       "8          Kasımpaşa  55.0  ...      0   2022  Trabzonspor NaN NaN   \n",
       "..               ...   ...  ...    ...    ...          ...  ..  ..   \n",
       "35       Kayserispor  51.0  ...      0   2021  Denizlispor NaN NaN   \n",
       "36          Rizespor  55.0  ...      0   2021  Denizlispor NaN NaN   \n",
       "37         Hatayspor  49.0  ...      1   2021  Denizlispor NaN NaN   \n",
       "38       Galatasaray  43.0  ...      0   2021  Denizlispor NaN NaN   \n",
       "39  Fatih Karagümrük  29.0  ...      0   2021  Denizlispor NaN NaN   \n",
       "\n",
       "    venue_code  opp_code  hour  day_code  target  \n",
       "2            0        23    19         0       1  \n",
       "4            1        21    19         0       1  \n",
       "6            0        14    21         6       1  \n",
       "7            1        11    20         6       0  \n",
       "8            0        17    16         5       1  \n",
       "..         ...       ...   ...       ...     ...  \n",
       "35           0        18    16         2       0  \n",
       "36           1        20    16         6       0  \n",
       "37           0        16    20         5       0  \n",
       "38           1        11    20         1       0  \n",
       "39           0         9    18         5       0  \n",
       "\n",
       "[1600 rows x 29 columns]"
      ]
     },
     "execution_count": 16,
     "metadata": {},
     "output_type": "execute_result"
    }
   ],
   "source": [
    "matches"
   ]
  },
  {
   "cell_type": "markdown",
   "id": "6da0eb7c",
   "metadata": {},
   "source": [
    "### Creating initial machine learning model"
   ]
  },
  {
   "cell_type": "markdown",
   "id": "d86b79b8",
   "metadata": {},
   "source": [
    "A random forest is a series of decision trees but each decision tree has slightly different parameters. \n",
    "The bigger the number of n_estimators, the longer the algorithm will take to run, but the more accurate it will be. The amount of samples I want in a leaf of the decision tree before splitting the node is called min_samples_split, and the more it is, the less likely we are to overfit, but the poorer the training data accuracy will be.\n",
    "A random state has a lot of random parameters in it, so if I run the random forest multiple times I'll get the same results as long as the data is the same.\n"
   ]
  },
  {
   "cell_type": "code",
   "execution_count": 17,
   "id": "6e6d37b7",
   "metadata": {},
   "outputs": [],
   "source": [
    "from sklearn.ensemble import RandomForestClassifier"
   ]
  },
  {
   "cell_type": "code",
   "execution_count": 18,
   "id": "d5dfd29e",
   "metadata": {},
   "outputs": [],
   "source": [
    "rf = RandomForestClassifier(n_estimators=50, min_samples_split=10, random_state=1)"
   ]
  },
  {
   "cell_type": "code",
   "execution_count": 19,
   "id": "31a2895c",
   "metadata": {},
   "outputs": [],
   "source": [
    "train = matches[matches[\"date\"] < '2022-01-01']"
   ]
  },
  {
   "cell_type": "code",
   "execution_count": 20,
   "id": "4eab70fb",
   "metadata": {},
   "outputs": [],
   "source": [
    "test = matches[matches[\"date\"] > '2022-01-01']"
   ]
  },
  {
   "cell_type": "code",
   "execution_count": 21,
   "id": "c7ca5f79",
   "metadata": {},
   "outputs": [],
   "source": [
    "predictors = [\"venue_code\", \"opp_code\", \"hour\", \"day_code\"]"
   ]
  },
  {
   "cell_type": "code",
   "execution_count": 22,
   "id": "65e9a1a7",
   "metadata": {},
   "outputs": [
    {
     "data": {
      "text/plain": [
       "RandomForestClassifier(min_samples_split=10, n_estimators=50, random_state=1)"
      ]
     },
     "execution_count": 22,
     "metadata": {},
     "output_type": "execute_result"
    }
   ],
   "source": [
    "rf.fit(train[predictors], train[\"target\"])"
   ]
  },
  {
   "cell_type": "code",
   "execution_count": 23,
   "id": "c1255138",
   "metadata": {},
   "outputs": [],
   "source": [
    "preds = rf.predict(test[predictors])"
   ]
  },
  {
   "cell_type": "code",
   "execution_count": 24,
   "id": "323b77b6",
   "metadata": {},
   "outputs": [],
   "source": [
    "from sklearn.metrics import accuracy_score"
   ]
  },
  {
   "cell_type": "code",
   "execution_count": 25,
   "id": "bf020e14",
   "metadata": {},
   "outputs": [
    {
     "data": {
      "text/plain": [
       "0.6078947368421053"
      ]
     },
     "execution_count": 25,
     "metadata": {},
     "output_type": "execute_result"
    }
   ],
   "source": [
    "error = accuracy_score(test[\"target\"], preds)\n",
    "error"
   ]
  },
  {
   "cell_type": "code",
   "execution_count": 26,
   "id": "941382cb",
   "metadata": {},
   "outputs": [],
   "source": [
    "combined = pd.DataFrame(dict(actual=test[\"target\"], predicted=preds))"
   ]
  },
  {
   "cell_type": "code",
   "execution_count": 27,
   "id": "19d9a190",
   "metadata": {},
   "outputs": [
    {
     "data": {
      "text/html": [
       "<div>\n",
       "<style scoped>\n",
       "    .dataframe tbody tr th:only-of-type {\n",
       "        vertical-align: middle;\n",
       "    }\n",
       "\n",
       "    .dataframe tbody tr th {\n",
       "        vertical-align: top;\n",
       "    }\n",
       "\n",
       "    .dataframe thead th {\n",
       "        text-align: right;\n",
       "    }\n",
       "</style>\n",
       "<table border=\"1\" class=\"dataframe\">\n",
       "  <thead>\n",
       "    <tr style=\"text-align: right;\">\n",
       "      <th>predicted</th>\n",
       "      <th>0</th>\n",
       "      <th>1</th>\n",
       "    </tr>\n",
       "    <tr>\n",
       "      <th>actual</th>\n",
       "      <th></th>\n",
       "      <th></th>\n",
       "    </tr>\n",
       "  </thead>\n",
       "  <tbody>\n",
       "    <tr>\n",
       "      <th>0</th>\n",
       "      <td>187</td>\n",
       "      <td>48</td>\n",
       "    </tr>\n",
       "    <tr>\n",
       "      <th>1</th>\n",
       "      <td>101</td>\n",
       "      <td>44</td>\n",
       "    </tr>\n",
       "  </tbody>\n",
       "</table>\n",
       "</div>"
      ],
      "text/plain": [
       "predicted    0   1\n",
       "actual            \n",
       "0          187  48\n",
       "1          101  44"
      ]
     },
     "execution_count": 27,
     "metadata": {},
     "output_type": "execute_result"
    }
   ],
   "source": [
    "pd.crosstab(index=combined[\"actual\"], columns=combined[\"predicted\"])"
   ]
  },
  {
   "cell_type": "code",
   "execution_count": 28,
   "id": "af0ce815",
   "metadata": {},
   "outputs": [
    {
     "data": {
      "text/plain": [
       "0.4782608695652174"
      ]
     },
     "execution_count": 28,
     "metadata": {},
     "output_type": "execute_result"
    }
   ],
   "source": [
    "from sklearn.metrics import precision_score\n",
    "\n",
    "precision_score(test[\"target\"], preds)"
   ]
  },
  {
   "cell_type": "code",
   "execution_count": null,
   "id": "72ebc004",
   "metadata": {},
   "outputs": [],
   "source": []
  },
  {
   "cell_type": "code",
   "execution_count": null,
   "id": "6fd2bf5e",
   "metadata": {},
   "outputs": [],
   "source": []
  },
  {
   "cell_type": "markdown",
   "id": "de449bc7",
   "metadata": {},
   "source": [
    "### Improving precision with rolling averages"
   ]
  },
  {
   "cell_type": "code",
   "execution_count": null,
   "id": "5bb4a3fd",
   "metadata": {},
   "outputs": [],
   "source": []
  },
  {
   "cell_type": "code",
   "execution_count": null,
   "id": "6a4496d6",
   "metadata": {},
   "outputs": [],
   "source": []
  },
  {
   "cell_type": "markdown",
   "id": "1751df86",
   "metadata": {},
   "source": [
    "### Retraining machine learning model"
   ]
  },
  {
   "cell_type": "code",
   "execution_count": null,
   "id": "2ffb107d",
   "metadata": {},
   "outputs": [],
   "source": []
  },
  {
   "cell_type": "markdown",
   "id": "91a1e399",
   "metadata": {},
   "source": [
    "### Combining home and away predictions"
   ]
  },
  {
   "cell_type": "code",
   "execution_count": null,
   "id": "16efb60c",
   "metadata": {},
   "outputs": [],
   "source": []
  }
 ],
 "metadata": {
  "kernelspec": {
   "display_name": "Python 3 (ipykernel)",
   "language": "python",
   "name": "python3"
  },
  "language_info": {
   "codemirror_mode": {
    "name": "ipython",
    "version": 3
   },
   "file_extension": ".py",
   "mimetype": "text/x-python",
   "name": "python",
   "nbconvert_exporter": "python",
   "pygments_lexer": "ipython3",
   "version": "3.9.7"
  }
 },
 "nbformat": 4,
 "nbformat_minor": 5
}
